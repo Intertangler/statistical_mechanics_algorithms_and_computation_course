{
 "cells": [
  {
   "cell_type": "markdown",
   "metadata": {},
   "source": [
    "## Key concepts\n",
    "\n",
    "Direct sample monte carlo\n",
    "Markov chain monte carlo MCMC - metropolis algorithm\n",
    "Global balance condition\n",
    "Detailed balance condition\n",
    "Homogeneous markov\n",
    "Inhomogeneous markov\n",
    "The metropolis acceptance criterion"
   ]
  },
  {
   "cell_type": "code",
   "execution_count": 16,
   "metadata": {
    "collapsed": true
   },
   "outputs": [],
   "source": [
    "%matplotlib inline\n",
    "import numpy as np\n",
    "from IPython.core.pylabtools import figsize\n",
    "from matplotlib import pyplot as plt"
   ]
  },
  {
   "cell_type": "markdown",
   "metadata": {},
   "source": [
    "A crucial lesson about sampling can be illustrated by the analogies:\n",
    "    1. children playing in the sand - monte carlo circle\n",
    "    2. adults playing in the monte carlo helipod\n",
    "    \n",
    "The famous 1/2 rule - how to choose the parameters of our monte carlo computations\n",
    "\n"
   ]
  },
  {
   "cell_type": "markdown",
   "metadata": {},
   "source": [
    "## Direct Sampling - monte carlo beach analogy\n",
    "Children play on the monte carlo beaches in the sand\n",
    "They draw a circle inscribed in a square and throw pebbles randomly into the square\n",
    "\n",
    "A pebble that lands in the square is called a TRIAL\n",
    "\n",
    "A pebble that lands in the circle counts as a HIT\n",
    "\n",
    "The children do a direct sampling monte carlo simulation and compute the number $\\pi$ from the ratio of the area of the circle to the area of the square\n",
    "\n",
    "This ratio is equal to $\\pi /4$\n",
    "\n",
    "eg. from 4000 trials, 3156 hits\n",
    "To calculate pi:\n",
    "$4 * N_{hits}/N_{trials} = 3.156$\n",
    "\n",
    "In the limit of an infinitely long beach party and infinite number of pebbles, the exact value of pi will be computed\n",
    "\n",
    "In python, we can write the following program:"
   ]
  },
  {
   "cell_type": "code",
   "execution_count": 8,
   "metadata": {
    "collapsed": false
   },
   "outputs": [
    {
     "name": "stdout",
     "output_type": "stream",
     "text": [
      "3.159\n"
     ]
    }
   ],
   "source": [
    "### DIRECT SAMPLING! - when you don't do rejections in other words\n",
    "import random\n",
    "\n",
    "n_trials = 4000\n",
    "n_hits = 0\n",
    "for iter in range(n_trials):\n",
    "    x, y = random.uniform(-1, 1), random.uniform(-1, 1) #key random number line that gives a random x, y coordinate inside the square\n",
    "    if x**2 + y**2 < 1: #this is the circle equation to see if the point landed within the circle\n",
    "        n_hits += 1\n",
    "print 4*n_hits / float(n_trials)"
   ]
  },
  {
   "cell_type": "code",
   "execution_count": 80,
   "metadata": {
    "collapsed": false
   },
   "outputs": [
    {
     "name": "stdout",
     "output_type": "stream",
     "text": [
      "3.159\n",
      "3.169\n",
      "3.129\n",
      "3.128\n",
      "3.118\n",
      "3.122\n",
      "3.172\n",
      "3.136\n",
      "3.15\n",
      "3.18\n"
     ]
    }
   ],
   "source": [
    "### DIRECT SAMPLING! - multiple runs version - when you don't do rejections in other words\n",
    "import random\n",
    "\n",
    "def direct_pi(N):\n",
    "    n_hits = 0\n",
    "    for iter in range(n_trials):\n",
    "        x, y = random.uniform(-1, 1), random.uniform(-1, 1) #key random number line that gives a random x, y coordinate inside the square\n",
    "        if x**2 + y**2 < 1: #this is the circle equation to see if the point landed within the circle\n",
    "            n_hits += 1\n",
    "    return n_hits\n",
    "n_runs = 10\n",
    "n_trials = 4000\n",
    "for run in range(n_runs):\n",
    "    print 4*direct_pi(n_trials) / float(n_trials)"
   ]
  },
  {
   "cell_type": "markdown",
   "metadata": {},
   "source": [
    "## Markov chain sampling - adults in the heliport\n",
    "\n",
    "New analogy - the adults wander around the square shaped landing pad - much larger so they cant throw a pebble randomly into such a HUGE field, so they start in a corner and do a random walk\n",
    "\n",
    "The aim of the game as before is to sweep out evenly the heliport square\n",
    "\n",
    "What should we do when we throw a pebble outside the square? Should we continue inside the square as if nothing has happened or should we climb outside and continue the random walk until we come back into the square.\n",
    "\n",
    "Solution - we come back to where we threw from and note that a stone went out of bounds - ie a rejection. And we continue with the next random walk step as if from the last step. \n",
    "\n",
    "In 1953, it was mindboggling that this famous Metropolis algorithm worked. \n",
    "\n",
    "Let's try running the markov chain sampling."
   ]
  },
  {
   "cell_type": "code",
   "execution_count": 12,
   "metadata": {
    "collapsed": false
   },
   "outputs": [
    {
     "name": "stdout",
     "output_type": "stream",
     "text": [
      "3.1715\n"
     ]
    }
   ],
   "source": [
    "## markov chain sampling\n",
    "import random\n",
    "x, y = 1, 1\n",
    "delta = 0.1 #the size of a random walk step (a stone throw)\n",
    "n_trials = 4000\n",
    "n_hits = 0\n",
    "for i in range(n_trials):\n",
    "    del_x, del_y = random.uniform(-delta,delta), random.uniform(-delta,delta) #this is a our random walk step, a random coordinate within the range of delta\n",
    "    if abs(x + del_x) < 1 and abs(y + del_y) < 1: #here we check if we need to do a reject - ie is the random trial within the region we are interested in sampling?\n",
    "        x,y = x + del_x, y + del_y #if no rejection, then update the current position\n",
    "    if x**2 + y**2 < 1: n_hits += 1 #whatever the position was (inbounds or out) we still do the check for circle or square\n",
    "print 4*n_hits / float(n_trials)"
   ]
  },
  {
   "cell_type": "markdown",
   "metadata": {},
   "source": [
    "## 3x3 Pebble Game & Detailed Balance Condition\n",
    "This strategy of piling up pebbles, though strange, the output still comes out just right.\n",
    "\n",
    "So why does the piling near the boundary strategy work? We want to pile up pebbles evenly around the square, so making piles seems strange. To understand why this strategy is ok, let's simplify it even further and consider a 3x3 pebble game.\n",
    "\n",
    "A pebble in a cell can move up, down, right, left.\n",
    "\n",
    "Below we show configuration $a$ of the pebble in the square:"
   ]
  },
  {
   "cell_type": "code",
   "execution_count": 45,
   "metadata": {
    "collapsed": false
   },
   "outputs": [
    {
     "data": {
      "text/plain": [
       "<matplotlib.text.Text at 0x7f48470d1e50>"
      ]
     },
     "execution_count": 45,
     "metadata": {},
     "output_type": "execute_result"
    },
    {
     "data": {
      "image/png": "[encoded data removed]",
      "text/plain": [
       "<matplotlib.figure.Figure at 0x7f48472c8190>"
      ]
     },
     "metadata": {},
     "output_type": "display_data"
    }
   ],
   "source": [
    "square = np.array([[0,0,1],[0,0,0],[0,0,0]])\n",
    "plt.imshow(square, interpolation=\"nearest\", cmap=\"Greys\")\n",
    "plt.title('Configuration $a$')"
   ]
  },
  {
   "cell_type": "markdown",
   "metadata": {},
   "source": [
    "With our simple movement rules, from configuration $a$ we can only move left or down:"
   ]
  },
  {
   "cell_type": "code",
   "execution_count": 44,
   "metadata": {
    "collapsed": false
   },
   "outputs": [
    {
     "data": {
      "text/plain": [
       "<matplotlib.text.Text at 0x7f484730f050>"
      ]
     },
     "execution_count": 44,
     "metadata": {},
     "output_type": "execute_result"
    },
    {
     "data": {
      "image/png": "[encoded data removed]",
      "text/plain": [
       "<matplotlib.figure.Figure at 0x7f48473d7590>"
      ]
     },
     "metadata": {},
     "output_type": "display_data"
    }
   ],
   "source": [
    "square = np.array([[0,1,0],[0,0,0],[0,0,0]])\n",
    "plt.imshow(square, interpolation=\"nearest\", cmap=\"Greys\")\n",
    "plt.title('Configuration $b$')"
   ]
  },
  {
   "cell_type": "code",
   "execution_count": 43,
   "metadata": {
    "collapsed": false,
    "scrolled": true
   },
   "outputs": [
    {
     "data": {
      "text/plain": [
       "<matplotlib.text.Text at 0x7f4847440210>"
      ]
     },
     "execution_count": 43,
     "metadata": {},
     "output_type": "execute_result"
    },
    {
     "data": {
      "image/png": "[encoded data removed]",
      "text/plain": [
       "<matplotlib.figure.Figure at 0x7f48473d7fd0>"
      ]
     },
     "metadata": {},
     "output_type": "display_data"
    }
   ],
   "source": [
    "square = np.array([[0,0,0],[0,0,1],[0,0,0]])\n",
    "plt.imshow(square, interpolation=\"nearest\", cmap=\"Greys\")\n",
    "plt.title('Configuration $c$')"
   ]
  },
  {
   "cell_type": "markdown",
   "metadata": {},
   "source": [
    "We can write this move into a little equation:\n",
    "\n",
    "$p(a \\rightarrow a)$ is the probability of staying in $a$\n",
    "\n",
    "$p(a \\rightarrow b)$ is the probability of moving to $b$\n",
    "\n",
    "$p(a \\rightarrow c)$ is the probability of moving to $c$\n",
    "\n",
    "The total probability, which should sum to 1, is the sum of algorithmic transition probabilities - ie Markov property.\n",
    "\n",
    "$p(a \\rightarrow a) + p(a \\rightarrow b) + p(a \\rightarrow c)$\n",
    "\n",
    "\n",
    "Now suppose that we have run this program long enough to reach a steady state. What then is the probability to be at configuration $a$ now that we have reached a steady state. \n",
    "\n",
    "It is the sum of all probabilities that transition to $a$. \n",
    " comment - I guess these are all dependent on other probabilities though. This isn't a complete statement without information from the other adjacent states and the rest of the system.\n",
    " \n",
    "$\\pi _a = \\pi _a p(a \\rightarrow a) +  \\pi _b p(b \\rightarrow a) +  \\pi _c p(c \\rightarrow a)$\n",
    "\n",
    "Notice $\\pi _a$ is on both sides of the equation.\n",
    "\n",
    "Let's do some rearrangement:\n",
    "\n",
    "$\\pi _a * 1 = \\pi _a p(a \\rightarrow a) +  \\pi _b p(b \\rightarrow a) +  \\pi _c p(c \\rightarrow a)$\n",
    "\n",
    "Since all probabilities for a step from state a must sum to 1, we can place that at the implicit 1 next to the steady state $\\pi _a$\n",
    "\n",
    "$1 = p(a \\rightarrow a) +  p(a \\rightarrow b) +  p(a \\rightarrow c)$\n",
    "\n",
    "$\\pi _a * (p(a \\rightarrow a) + p(a \\rightarrow b) + \\pi _c p(a \\rightarrow c)) = \\pi _a p(a \\rightarrow a) +  \\pi _b p(b \\rightarrow a) +  \\pi _c p(c \\rightarrow a)$\n",
    "\n",
    "Note that the $p(a \\rightarrow a)$ on both sides of the equation cancel out, and we're left with:\n",
    "\n",
    "### the celebrated Global Balance Condition\n",
    "\n",
    "$\\pi _a p(a \\rightarrow b) + \\pi _a p(a \\rightarrow c) = \\pi _b p(b \\rightarrow a) + \\pi _c p(c \\rightarrow a)$\n",
    "\n",
    "What is this saying exactly? In words:\n",
    "The joint probability of steady state probability of being in $a$ and a transition to $b$ next round plus the joint probability of being in $a$ at steady state with the probability of going to state $c$ is EQUAL to the joint probabilities of being in state $b$ and going to a plus that of being in state $c$ and going to $a$. \n",
    "\n",
    "More simply, the probability of being in state $a$ and leaving it to an adjacent state is balanced with the probability of being in an adjacent state and transitioning state $a$. \n",
    "\n",
    "Or finally, we are saying that the in and out transitions are balanced at steady state. There is no net flux toward a particular state. \n",
    "\n",
    "\n",
    "Our Monte Carlo algorithm, which is nothing more than the set of transition probabilities from one state to another, MUST SATISFY THE CONDITION, ie the equation above. \n",
    "\n",
    "There are many algorithms that satisfy the global balance condition.\n",
    "\n",
    "One way to satisfy the condition, is by equating the a and b parts of the equation separately from the a and c parts:\n",
    "\n",
    "### the  detailed balance condition\n",
    "$\\pi _a p(a \\rightarrow b) = \\pi _b p(b \\rightarrow a)$\n",
    "\n",
    "$\\pi _a p(a \\rightarrow c) = \\pi _c p(c \\rightarrow a)$\n",
    "\n",
    "This version is really famous. What does it mean exactly and why is it important ?\n",
    "In our 3x3 pebble game, we want to sweep out, evenly, all the configurations. How do we get an even sweep?\n",
    "\n",
    "In probability terms, this is saying we want the steady state probabilities of being in each state to be equal - an even sweep.\n",
    "\n",
    "$\\pi _a = \\pi _b = \\pi _c$\n",
    "\n",
    "This means, that somehow we need to make it so that the transition probabilities of in and out of each state are also equal - otherwise we violate the equations above. ie:\n",
    "\n",
    "$p(a \\rightarrow b) = p(b \\rightarrow a)$\n",
    "\n",
    "$p(a \\rightarrow c) = p(c \\rightarrow a)$\n",
    "\n",
    "We need to rig our algorithm to have equal transition probabilites from state to state. First consider the middle square:"
   ]
  },
  {
   "cell_type": "code",
   "execution_count": 42,
   "metadata": {
    "collapsed": false
   },
   "outputs": [
    {
     "data": {
      "text/plain": [
       "<matplotlib.image.AxesImage at 0x7f48473e7390>"
      ]
     },
     "execution_count": 42,
     "metadata": {},
     "output_type": "execute_result"
    },
    {
     "data": {
      "image/png": "[encoded data removed]",
      "text/plain": [
       "<matplotlib.figure.Figure at 0x7f484773eb90>"
      ]
     },
     "metadata": {},
     "output_type": "display_data"
    }
   ],
   "source": [
    "square = np.array([[0,0,0],[0,1,0],[0,0,0]])\n",
    "plt.imshow(square, interpolation=\"nearest\", cmap=\"Greys\")\n",
    "#plt.title('Configuration $ $')"
   ]
  },
  {
   "cell_type": "markdown",
   "metadata": {},
   "source": [
    "Here we will say that the transition probabilities of going left, right, down, and up are each 0.25. ie all the allowed moves are equally likely and possible from this position.\n",
    "\n",
    "Now let's introduce our simple solution to satisfy the global balance condition involving rejections. \n",
    "\n",
    "If we are at position $a$:"
   ]
  },
  {
   "cell_type": "code",
   "execution_count": 41,
   "metadata": {
    "collapsed": false
   },
   "outputs": [
    {
     "data": {
      "text/plain": [
       "<matplotlib.text.Text at 0x7f4847516590>"
      ]
     },
     "execution_count": 41,
     "metadata": {},
     "output_type": "execute_result"
    },
    {
     "data": {
      "image/png": "[encoded data removed]",
      "text/plain": [
       "<matplotlib.figure.Figure at 0x7f484778c690>"
      ]
     },
     "metadata": {},
     "output_type": "display_data"
    }
   ],
   "source": [
    "square = np.array([[0,0,1],[0,0,0],[0,0,0]])\n",
    "plt.imshow(square, interpolation=\"nearest\", cmap=\"Greys\")\n",
    "plt.title('Configuration $a$')"
   ]
  },
  {
   "cell_type": "markdown",
   "metadata": {},
   "source": [
    "Then we reject the move to the right and up. We have a 0.5 probability for staying at site $a$, and the probability of moving to $b$ or $c$ is 0.25 each.\n",
    "\n",
    "From position $b$ and $c$ we have a rejection probability each of 0.25.\n",
    "\n",
    "This is the essence of the metropolis algorithm. \n",
    "\n",
    "We have just derived a markov chain monte carlo algorithm for the case when we sweep out all the configurations evenly. \n",
    "\n"
   ]
  },
  {
   "cell_type": "markdown",
   "metadata": {},
   "source": [
    "## Inhomogeneous pebble game and the Metropolis algorithm\n",
    "\n",
    "Finally, let's consider the inhomogeneous case. Now instead of doing an even sweep, we will have statistical weights for each configuration. Shown below is the pebble grid drawn in blue to distinguish the statistical weighting from the \"current state\" representation in black and white above.\n",
    "\n"
   ]
  },
  {
   "cell_type": "code",
   "execution_count": 40,
   "metadata": {
    "collapsed": false
   },
   "outputs": [
    {
     "data": {
      "text/plain": [
       "<matplotlib.text.Text at 0x7f484755b790>"
      ]
     },
     "execution_count": 40,
     "metadata": {},
     "output_type": "execute_result"
    },
    {
     "data": {
      "image/png": "[encoded data removed]",
      "text/plain": [
       "<matplotlib.figure.Figure at 0x7f48479b1610>"
      ]
     },
     "metadata": {},
     "output_type": "display_data"
    }
   ],
   "source": [
    "square = np.array([[2,0.5,1],[.5,1.0,0.5],[3.0,0.5,1.0]])\n",
    "plt.imshow(square, interpolation=\"nearest\", cmap=\"Blues\")\n",
    "plt.title('Configuration $a$')"
   ]
  },
  {
   "cell_type": "markdown",
   "metadata": {},
   "source": [
    "So, at steady state, we should expect the pebble to spend twice as much time in the top left versus the top right for example.\n",
    "\n",
    "To devise a markov chain monte carlo algorithm for this inhomogeneous scenario, we must revisit the detailed balance condition. \n",
    "\n",
    "$\\pi _a p(a \\rightarrow b) = \\pi _b p(b \\rightarrow a)$\n",
    "\n",
    "$\\pi _a p(a \\rightarrow c) = \\pi _c p(c \\rightarrow a)$\n",
    "\n",
    "We would violate this condition if we moved from $a$ to $b$ with the same probability as $b$ to $a$. \n",
    "\n",
    "Metropolis et al proposed the acceptance rule for the case of inhomogeneous steady state probabilities:\n",
    "\n",
    "$ p(a \\rightarrow b) = min\\Big( 1, \\frac{\\pi (b)}{\\pi (a)} \\Big)  $\n",
    "\n",
    "Stated in words, the probability of going from a to b is either 1 or the ratio of steady state probabilities b to a when the latter is less than 1. In the above grid, if we want to move from the top right corner which has a statistical weight of 1.0 to its left adjacent neighbor which has a statistical weight of 0.5, then the acceptance criterion is:\n",
    "\n",
    "$min \\Big( 1, \\frac{0.5}{1} \\Big)$\n",
    "\n",
    "In otherwords, we should accept this proposed transition with a probability 0.5. Even though this is not a move into the boundary, there is still a chance for rejection here. Remember, that these moves are proposed according to their neighbor configuration still though - ie 0.25 in the case of a 2d grid as we have here. \n",
    "\n"
   ]
  },
  {
   "cell_type": "code",
   "execution_count": 61,
   "metadata": {
    "collapsed": false
   },
   "outputs": [
    {
     "name": "stdout",
     "output_type": "stream",
     "text": [
      "8\n",
      "8\n",
      "5\n",
      "5\n",
      "2\n",
      "2\n",
      "2\n",
      "2\n",
      "1\n",
      "1\n",
      "2\n",
      "2\n",
      "5\n",
      "8\n",
      "5\n",
      "4\n"
     ]
    }
   ],
   "source": [
    "##basic pebble game\n",
    "import random\n",
    "neighbor = [[1,3,0,0],[2,4,0,1],[2,5,1,2], #each sub-array has an unmarked number identified by its listed order/index in the main matrix\n",
    "            [4,6,3,0],[5,7,3,1],[5,8,4,2], #within subarrays, the elements are legal transitions to neighbor states\n",
    "            [7,6,6,3],[8,7,6,4],[8,8,7,5]]\n",
    "t_max = 15\n",
    "site = 8\n",
    "t = 0\n",
    "print site\n",
    "while t < t_max:\n",
    "    t += 1\n",
    "    site = neighbor[site][random.randint(0,3)]\n",
    "    print site"
   ]
  },
  {
   "cell_type": "code",
   "execution_count": 81,
   "metadata": {
    "collapsed": false
   },
   "outputs": [
    {
     "name": "stdout",
     "output_type": "stream",
     "text": [
      "comparison: weight, histogram\n",
      "site:  0 weight:  3.0 histo:  1.6\n",
      "site:  1 weight:  0.5 histo:  0.3\n",
      "site:  2 weight:  1.0 histo:  1.0\n",
      "site:  3 weight:  0.5 histo:  0.3\n",
      "site:  4 weight:  1.0 histo:  1.8\n",
      "site:  5 weight:  0.5 histo:  0.9\n",
      "site:  6 weight:  2.0 histo:  1.1\n",
      "site:  7 weight:  0.5 histo:  0.3\n",
      "site:  8 weight:  1.0 histo:  2.7\n"
     ]
    }
   ],
   "source": [
    "## inhomogeneous basic pebble game\n",
    "import random\n",
    "histo = [0,0,0,0,0,0,0,0,0]\n",
    "neighbor = [[1,3,0,0],[2,4,0,1],[2,5,1,2], #each sub-array has an unmarked number identified by its listed order/index in the main matrix\n",
    "            [4,6,3,0],[5,7,3,1],[5,8,4,2], #within subarrays, the elements are legal transitions to neighbor states\n",
    "            [7,6,6,3],[8,7,6,4],[8,8,7,5]]\n",
    "weight = [3.0,0.5,1.0,0.5,1.0,0.5,2.0,0.5,1.0]\n",
    "pos = 8\n",
    "n_iter = 100\n",
    "for iter in range(n_iter):\n",
    "    new_pos = neighbor[pos][random.randint(0,3)] #again choose a legal neighbor transition via the array scheme\n",
    "    if random.random() < weight[new_pos] / weight[pos]:\n",
    "        pos = new_pos\n",
    "    histo[pos] += 1\n",
    "norm = sum(weight)\n",
    "print 'comparison: weight, histogram'\n",
    "for k in range(9):\n",
    "    print 'site: ', k, 'weight: ', weight[k], 'histo: ', norm*histo[k]/float(n_iter)\n",
    "#plt.scatter(weight,histo)"
   ]
  },
  {
   "cell_type": "markdown",
   "metadata": {},
   "source": []
  },
  {
   "cell_type": "code",
   "execution_count": null,
   "metadata": {
    "collapsed": false
   },
   "outputs": [],
   "source": []
  },
  {
   "cell_type": "code",
   "execution_count": null,
   "metadata": {
    "collapsed": true
   },
   "outputs": [],
   "source": []
  }
 ],
 "metadata": {
  "kernelspec": {
   "display_name": "Python 2",
   "language": "python",
   "name": "python2"
  },
  "language_info": {
   "codemirror_mode": {
    "name": "ipython",
    "version": 2
   },
   "file_extension": ".py",
   "mimetype": "text/x-python",
   "name": "python",
   "nbconvert_exporter": "python",
   "pygments_lexer": "ipython2",
   "version": "2.7.6"
  }
 },
 "nbformat": 4,
 "nbformat_minor": 0
}
